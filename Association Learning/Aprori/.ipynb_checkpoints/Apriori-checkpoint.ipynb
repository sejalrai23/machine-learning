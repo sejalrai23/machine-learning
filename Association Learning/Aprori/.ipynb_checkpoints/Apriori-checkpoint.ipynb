{
 "cells": [
  {
   "cell_type": "code",
   "execution_count": 1,
   "id": "d9a119f0-07d7-4db1-9868-9729c99f5470",
   "metadata": {},
   "outputs": [],
   "source": [
    "import numpy as np\n",
    "import pandas as pd\n",
    "import matplotlib.pyplot as plt\n"
   ]
  },
  {
   "cell_type": "code",
   "execution_count": 8,
   "id": "4feef2d5-fa8b-4c3a-98f9-5b5d36578312",
   "metadata": {},
   "outputs": [],
   "source": [
    "data=pd.read_csv(\"Market_Basket_Optimisation.csv\", header=None)\n",
    "#apriori requires data as list of transactions not as dataframe\n",
    "transactions=[]\n",
    "for i in range(0,7501):\n",
    "    transactions.append([data.iloc[i,:].values])\n",
    "    \n",
    "# print(transactions)"
   ]
  },
  {
   "cell_type": "code",
   "execution_count": 7,
   "id": "4db36c01-dfae-4a43-8258-0f598d8a0416",
   "metadata": {},
   "outputs": [],
   "source": [
    "# transactions\n"
   ]
  },
  {
   "cell_type": "code",
   "execution_count": 9,
   "id": "2e9e2e89-f286-461d-8a2c-cadb900a4e02",
   "metadata": {},
   "outputs": [],
   "source": [
    "from apyori import apriori\n",
    "rules=apriori(transactions=transactions,min_support=0.03,min_confidence=0.2,min_lift=3, min_length=2, max_length=2)"
   ]
  },
  {
   "cell_type": "code",
   "execution_count": 11,
   "id": "62b2d5b4-b2a6-4ea1-96c2-0be86b58a289",
   "metadata": {},
   "outputs": [
    {
     "data": {
      "text/plain": [
       "<generator object apriori at 0x000002AED03C6510>"
      ]
     },
     "execution_count": 11,
     "metadata": {},
     "output_type": "execute_result"
    }
   ],
   "source": [
    "# results=list(rules)\n",
    "rules"
   ]
  },
  {
   "cell_type": "code",
   "execution_count": null,
   "id": "19d1cbe0-c7c9-4470-86a7-3b02a552ea08",
   "metadata": {},
   "outputs": [],
   "source": []
  }
 ],
 "metadata": {
  "kernelspec": {
   "display_name": "Python 3 (ipykernel)",
   "language": "python",
   "name": "python3"
  },
  "language_info": {
   "codemirror_mode": {
    "name": "ipython",
    "version": 3
   },
   "file_extension": ".py",
   "mimetype": "text/x-python",
   "name": "python",
   "nbconvert_exporter": "python",
   "pygments_lexer": "ipython3",
   "version": "3.9.5"
  }
 },
 "nbformat": 4,
 "nbformat_minor": 5
}
